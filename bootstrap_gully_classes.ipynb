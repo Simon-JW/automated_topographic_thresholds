{
 "cells": [
  {
   "cell_type": "markdown",
   "metadata": {},
   "source": [
    "# Gully heads by lithology"
   ]
  },
  {
   "cell_type": "markdown",
   "metadata": {},
   "source": [
    "### kb/pb"
   ]
  },
  {
   "cell_type": "markdown",
   "metadata": {},
   "source": [
    "df1 = pd.read_csv('pb_1.csv')\n",
    "df2 = pd.read_csv('pb_2.csv')\n",
    "df3 = pd.read_csv('pb_3.csv')\n",
    "df4 = pd.read_csv('pb_4.csv')\n",
    "df5 = pd.read_csv('pb_5.csv')\n",
    "df6 = pd.read_csv('pb_6.csv')\n",
    "df7 = pd.read_csv('pb_7.csv')\n",
    "df8 = pd.read_csv('pb_8.csv')\n",
    "df9 = pd.read_csv('pb_9.csv')\n",
    "df10 = pd.read_csv('pb_10.csv')\n",
    "df11 = pd.read_csv('kb_1.csv')\n",
    "df12 = pd.read_csv('kb_2.csv')\n",
    "df13 = pd.read_csv('kb_3.csv')\n",
    "df14 = pd.read_csv('kb_4.csv')\n",
    "df15 = pd.read_csv('kb_5.csv')\n",
    "df16 = pd.read_csv('kb_6.csv')\n",
    "df17 = pd.read_csv('kb_7.csv')\n",
    "df18 = pd.read_csv('kb_8.csv')\n",
    "df19 = pd.read_csv('kb_9.csv')\n",
    "df20 = pd.read_csv('kb_10.csv')"
   ]
  },
  {
   "cell_type": "code",
   "execution_count": null,
   "metadata": {},
   "outputs": [],
   "source": [
    "all_gully_data = df1.append([df2,df3,df4,df5,df6,df7,df8,df9,df10], ignore_index = True)\n",
    "forested = df2.append([df4,df5,df7,df8,df9,df10,df11,df12,df18,df19,df20], ignore_index = True)\n",
    "cleared = df1.append([df3,df6,df13,df14,df15,df16,df17], ignore_index = True)"
   ]
  },
  {
   "cell_type": "markdown",
   "metadata": {},
   "source": [
    "### pg"
   ]
  },
  {
   "cell_type": "markdown",
   "metadata": {},
   "source": [
    "df1 = pd.read_csv('pg_1.csv')\n",
    "df2 = pd.read_csv('pg_kb_2.csv')\n",
    "df3 = pd.read_csv('pg_3.csv')\n",
    "df4 = pd.read_csv('pg_4.csv')\n",
    "df5 = pd.read_csv('pg_5.csv')\n",
    "df6 = pd.read_csv('pg_6.csv')\n",
    "df7 = pd.read_csv('pg_7.csv')\n",
    "df8 = pd.read_csv('pg_8.csv')"
   ]
  },
  {
   "cell_type": "markdown",
   "metadata": {},
   "source": [
    "all_gully_data = df1.append([df2,df3,df4,df5,df6,df7,df8], ignore_index = True)\n",
    "forested = df1.append([df6,df8], ignore_index = True)\n",
    "cleared = df2.append([df3,df4,df5,df7], ignore_index = True)"
   ]
  },
  {
   "cell_type": "markdown",
   "metadata": {},
   "source": [
    "### ps"
   ]
  },
  {
   "cell_type": "markdown",
   "metadata": {},
   "source": [
    "df1 = pd.read_csv('ps_1.csv')\n",
    "df2 = pd.read_csv('ps_2.csv')\n",
    "df3 = pd.read_csv('ps_3.csv')\n",
    "df4 = pd.read_csv('ps_4.csv')\n",
    "df5 = pd.read_csv('ps_5.csv')\n",
    "df6 = pd.read_csv('ps_6.csv')\n",
    "df7 = pd.read_csv('ps_7.csv')\n",
    "df8 = pd.read_csv('ps_8.csv')\n",
    "df9 = pd.read_csv('ps_9.csv')\n",
    "df10 = pd.read_csv('ps_10.csv')\n",
    "df11 = pd.read_csv('ps_11.csv')\n",
    "df12 = pd.read_csv('ps_12.csv')\n",
    "df13 = pd.read_csv('ps_13.csv')\n",
    "df14 = pd.read_csv('ps_14.csv')\n",
    "df15 = pd.read_csv('ps_15.csv')\n",
    "df16 = pd.read_csv('ps_16.csv')\n",
    "df17 = pd.read_csv('ps_17.csv')\n",
    "df18 = pd.read_csv('ps_18.csv')\n",
    "df19 = pd.read_csv('ps_19.csv')\n",
    "df20 = pd.read_csv('ps_20.csv')\n",
    "df21 = pd.read_csv('ps_21.csv')"
   ]
  },
  {
   "cell_type": "markdown",
   "metadata": {},
   "source": [
    "all_gully_data = df1.append([df2,df3,df4,df5,df6,df7,df8,\n",
    "                            df9,df10,df11,df12,df13,df14,df15,\n",
    "                            df16,df17,df18], ignore_index = True)\n",
    "forested = df2.append([df3,df4,df5,df9,df11,df12,df13,df14,df15,df17], ignore_index = True)\n",
    "cleared = df1.append([df6,df7,df8,df10,df16,df18,df19,df20,df21], ignore_index = True)"
   ]
  },
  {
   "cell_type": "markdown",
   "metadata": {},
   "source": [
    "### ps (moah creek)"
   ]
  },
  {
   "cell_type": "markdown",
   "metadata": {},
   "source": [
    "all_gully_data = df6.append([df15,df16,df17,df18], ignore_index = True)\n",
    "forested = df15.append([df17], ignore_index = True)\n",
    "cleared = df6.append([df16,df18], ignore_index = True)"
   ]
  },
  {
   "cell_type": "markdown",
   "metadata": {},
   "source": [
    "### ps (dinner creek conglomerate)"
   ]
  },
  {
   "cell_type": "code",
   "execution_count": null,
   "metadata": {},
   "outputs": [],
   "source": [
    "all_gully_data = df11.append([df12,df19,df20,df21], ignore_index = True)\n",
    "forested = df11.append([df12], ignore_index = True)\n",
    "cleared = df19.append([df20,df21], ignore_index = True)"
   ]
  },
  {
   "cell_type": "markdown",
   "metadata": {},
   "source": [
    "### ra"
   ]
  },
  {
   "cell_type": "markdown",
   "metadata": {},
   "source": [
    "df1 = pd.read_csv('ra_1.csv')\n",
    "df2 = pd.read_csv('ra_2.csv')\n",
    "df3 = pd.read_csv('ra_3.csv')\n",
    "df4 = pd.read_csv('ra_4.csv')\n",
    "df5 = pd.read_csv('ra_5.csv')\n",
    "df6 = pd.read_csv('ra_6.csv')\n",
    "df7 = pd.read_csv('ra_7.csv')\n",
    "df8 = pd.read_csv('ra_8.csv')\n",
    "df9 = pd.read_csv('ra_ps_1.csv')"
   ]
  },
  {
   "cell_type": "markdown",
   "metadata": {},
   "source": [
    "all_gully_data = df1.append([df2,df3,df4,df5,df6,df7,df8,\n",
    "                            df9], ignore_index = True)\n",
    "forested = df1.append([df2,df4,df5,df8], ignore_index = True)\n",
    "cleared = df3.append([df6,df7,df9], ignore_index = True)"
   ]
  },
  {
   "cell_type": "markdown",
   "metadata": {},
   "source": [
    "### kf"
   ]
  },
  {
   "cell_type": "markdown",
   "metadata": {},
   "source": [
    "df1 = pd.read_csv('kf_1.csv')\n",
    "df2 = pd.read_csv('kf_2.csv')\n",
    "df3 = pd.read_csv('kf_3.csv')\n",
    "df4 = pd.read_csv('kf_4.csv')\n",
    "df5 = pd.read_csv('kf_5.csv')\n",
    "df6 = pd.read_csv('kf_6.csv')\n",
    "df7 = pd.read_csv('kf_pg_7.csv')\n",
    "df8 = pd.read_csv('kf_8.csv')\n",
    "df9 = pd.read_csv('kf_9.csv')\n",
    "df10 = pd.read_csv('kf_10.csv')\n",
    "df11 = pd.read_csv('kf_11.csv')\n",
    "df12 = pd.read_csv('kf_12.csv')\n",
    "df13 = pd.read_csv('kf_13.csv')"
   ]
  },
  {
   "cell_type": "markdown",
   "metadata": {},
   "source": [
    "all_gully_data = df1.append([df2,df3,df4,df5,df6,df7,df8,\n",
    "                            df9,df10,df11,df12], ignore_index = True)\n",
    "forested = df1.append([df2,df3,df4,df7], ignore_index = True)\n",
    "cleared = df5.append([df6,df8,df9,df10,df11,df12,df13], ignore_index = True)"
   ]
  }
 ],
 "metadata": {
  "kernelspec": {
   "display_name": "Python 3",
   "language": "python",
   "name": "python3"
  },
  "language_info": {
   "codemirror_mode": {
    "name": "ipython",
    "version": 3
   },
   "file_extension": ".py",
   "mimetype": "text/x-python",
   "name": "python",
   "nbconvert_exporter": "python",
   "pygments_lexer": "ipython3",
   "version": "3.7.7"
  }
 },
 "nbformat": 4,
 "nbformat_minor": 4
}
